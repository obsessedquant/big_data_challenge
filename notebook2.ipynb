{
 "cells": [
  {
   "cell_type": "markdown",
   "id": "b7cb7cb2",
   "metadata": {
    "id": "b7cb7cb2"
   },
   "source": [
    "# Video Games Amazon Products ETL"
   ]
  },
  {
   "cell_type": "code",
   "execution_count": 1,
   "id": "e18dff71",
   "metadata": {
    "colab": {
     "base_uri": "https://localhost:8080/"
    },
    "id": "e18dff71",
    "outputId": "e5564450-64ec-4887-8462-092c41590cc3"
   },
   "outputs": [
    {
     "name": "stdout",
     "output_type": "stream",
     "text": [
      "Get:1 https://cloud.r-project.org/bin/linux/ubuntu bionic-cran40/ InRelease [3,626 B]\n",
      "Ign:2 https://developer.download.nvidia.com/compute/cuda/repos/ubuntu1804/x86_64  InRelease\n",
      "Get:3 http://ppa.launchpad.net/c2d4u.team/c2d4u4.0+/ubuntu bionic InRelease [15.9 kB]\n",
      "Get:4 http://security.ubuntu.com/ubuntu bionic-security InRelease [88.7 kB]\n",
      "Ign:5 https://developer.download.nvidia.com/compute/machine-learning/repos/ubuntu1804/x86_64  InRelease\n",
      "Hit:6 https://developer.download.nvidia.com/compute/cuda/repos/ubuntu1804/x86_64  Release\n",
      "Hit:7 https://developer.download.nvidia.com/compute/machine-learning/repos/ubuntu1804/x86_64  Release\n",
      "Hit:8 http://archive.ubuntu.com/ubuntu bionic InRelease\n",
      "Get:9 http://archive.ubuntu.com/ubuntu bionic-updates InRelease [88.7 kB]\n",
      "Hit:10 http://ppa.launchpad.net/cran/libgit2/ubuntu bionic InRelease\n",
      "Get:11 http://ppa.launchpad.net/deadsnakes/ppa/ubuntu bionic InRelease [15.9 kB]\n",
      "Hit:13 http://archive.ubuntu.com/ubuntu bionic-backports InRelease\n",
      "Get:14 http://ppa.launchpad.net/graphics-drivers/ppa/ubuntu bionic InRelease [21.3 kB]\n",
      "Get:16 http://ppa.launchpad.net/c2d4u.team/c2d4u4.0+/ubuntu bionic/main Sources [1,822 kB]\n",
      "Get:17 http://ppa.launchpad.net/c2d4u.team/c2d4u4.0+/ubuntu bionic/main amd64 Packages [934 kB]\n",
      "Get:18 http://security.ubuntu.com/ubuntu bionic-security/universe amd64 Packages [1,459 kB]\n",
      "Get:19 http://archive.ubuntu.com/ubuntu bionic-updates/restricted amd64 Packages [749 kB]\n",
      "Get:20 http://security.ubuntu.com/ubuntu bionic-security/main amd64 Packages [2,489 kB]\n",
      "Get:21 http://security.ubuntu.com/ubuntu bionic-security/multiverse amd64 Packages [26.8 kB]\n",
      "Get:22 http://security.ubuntu.com/ubuntu bionic-security/restricted amd64 Packages [716 kB]\n",
      "Get:23 http://archive.ubuntu.com/ubuntu bionic-updates/universe amd64 Packages [2,238 kB]\n",
      "Get:24 http://ppa.launchpad.net/deadsnakes/ppa/ubuntu bionic/main amd64 Packages [45.3 kB]\n",
      "Get:25 http://archive.ubuntu.com/ubuntu bionic-updates/multiverse amd64 Packages [34.5 kB]\n",
      "Get:26 http://archive.ubuntu.com/ubuntu bionic-updates/main amd64 Packages [2,929 kB]\n",
      "Get:27 http://ppa.launchpad.net/graphics-drivers/ppa/ubuntu bionic/main amd64 Packages [44.7 kB]\n",
      "Fetched 13.7 MB in 5s (2,655 kB/s)\n",
      "Reading package lists... Done\n"
     ]
    }
   ],
   "source": [
    "import os\n",
    "# Find the latest version of spark 3.0  from http://www.apache.org/dist/spark/ and enter as the spark version\n",
    "# For example:\n",
    "# spark_version = 'spark-3.0.3'\n",
    "# spark_version = 'spark-3.<enter version>'\n",
    "spark_version = 'spark-3.2.0'\n",
    "os.environ['SPARK_VERSION']=spark_version\n",
    "\n",
    "# Install Spark and Java\n",
    "!apt-get update\n",
    "!apt-get install openjdk-8-jdk-headless -qq > /dev/null\n",
    "!wget -q http://www.apache.org/dist/spark/$SPARK_VERSION/$SPARK_VERSION-bin-hadoop2.7.tgz\n",
    "!tar xf $SPARK_VERSION-bin-hadoop2.7.tgz\n",
    "!pip install -q findspark\n",
    "\n",
    "# Set Environment Variables\n",
    "os.environ[\"JAVA_HOME\"] = \"/usr/lib/jvm/java-8-openjdk-amd64\"\n",
    "os.environ[\"SPARK_HOME\"] = f\"/content/{spark_version}-bin-hadoop2.7\"\n",
    "\n",
    "# Start a SparkSession\n",
    "import findspark\n",
    "findspark.init()"
   ]
  },
  {
   "cell_type": "code",
   "execution_count": 2,
   "id": "3df43af7",
   "metadata": {
    "colab": {
     "base_uri": "https://localhost:8080/"
    },
    "id": "3df43af7",
    "outputId": "486a4e2e-c48a-4e3f-c31c-f8cd92420d88"
   },
   "outputs": [
    {
     "name": "stdout",
     "output_type": "stream",
     "text": [
      "--2022-01-08 23:18:22--  https://jdbc.postgresql.org/download/postgresql-42.2.9.jar\n",
      "Resolving jdbc.postgresql.org (jdbc.postgresql.org)... 72.32.157.228, 2001:4800:3e1:1::228\n",
      "Connecting to jdbc.postgresql.org (jdbc.postgresql.org)|72.32.157.228|:443... connected.\n",
      "HTTP request sent, awaiting response... 200 OK\n",
      "Length: 914037 (893K) [application/java-archive]\n",
      "Saving to: ‘postgresql-42.2.9.jar’\n",
      "\n",
      "postgresql-42.2.9.j 100%[===================>] 892.61K  --.-KB/s    in 0.08s   \n",
      "\n",
      "2022-01-08 23:18:22 (10.6 MB/s) - ‘postgresql-42.2.9.jar’ saved [914037/914037]\n",
      "\n"
     ]
    }
   ],
   "source": [
    "!wget https://jdbc.postgresql.org/download/postgresql-42.2.9.jar"
   ]
  },
  {
   "cell_type": "code",
   "execution_count": 3,
   "id": "0d13f6b4",
   "metadata": {
    "id": "0d13f6b4"
   },
   "outputs": [],
   "source": [
    "from pyspark.sql import SparkSession\n",
    "spark = SparkSession.builder.appName(\"dbapp\").config(\"spark.driver.extraClassPath\",\"/content/postgresql-42.2.9.jar\").getOrCreate()"
   ]
  },
  {
   "cell_type": "code",
   "execution_count": 4,
   "id": "e44ee7b3",
   "metadata": {
    "id": "e44ee7b3"
   },
   "outputs": [],
   "source": [
    "from pyspark.sql.functions import col,to_date,count"
   ]
  },
  {
   "cell_type": "code",
   "execution_count": 5,
   "id": "b32e0fd0",
   "metadata": {
    "colab": {
     "base_uri": "https://localhost:8080/"
    },
    "id": "b32e0fd0",
    "outputId": "0c08e660-601b-44f9-97e0-afaa2ededb5a"
   },
   "outputs": [
    {
     "name": "stdout",
     "output_type": "stream",
     "text": [
      "+-----------+-----------+--------------+----------+--------------+--------------------+----------------+-----------+-------------+-----------+----+-----------------+--------------------+--------------------+-----------+\n",
      "|marketplace|customer_id|     review_id|product_id|product_parent|       product_title|product_category|star_rating|helpful_votes|total_votes|vine|verified_purchase|     review_headline|         review_body|review_date|\n",
      "+-----------+-----------+--------------+----------+--------------+--------------------+----------------+-----------+-------------+-----------+----+-----------------+--------------------+--------------------+-----------+\n",
      "|         US|   12039526| RTIS3L2M1F5SM|B001CXYMFS|     737716809|Thrustmaster T-Fl...|     Video Games|          5|            0|          0|   N|                Y|an amazing joysti...|Used this for Eli...| 2015-08-31|\n",
      "|         US|    9636577| R1ZV7R40OLHKD|B00M920ND6|     569686175|Tonsee 6 buttons ...|     Video Games|          5|            0|          0|   N|                Y|Definitely a sile...|Loved it,  I didn...| 2015-08-31|\n",
      "|         US|    2331478|R3BH071QLH8QMC|B0029CSOD2|      98937668|Hidden Mysteries:...|     Video Games|          1|            0|          1|   N|                Y|            One Star|poor quality work...| 2015-08-31|\n",
      "|         US|   52495923|R127K9NTSXA2YH|B00GOOSV98|      23143350|GelTabz Performan...|     Video Games|          3|            0|          0|   N|                Y|good, but could b...|nice, but tend to...| 2015-08-31|\n",
      "|         US|   14533949|R32ZWUXDJPW27Q|B00Y074JOM|     821342511|Zero Suit Samus a...|     Video Games|          4|            0|          0|   N|                Y|   Great but flawed.|Great amiibo, gre...| 2015-08-31|\n",
      "|         US|    2377552|R3AQQ4YUKJWBA6|B002UBI6W6|     328764615|Psyclone Recharge...|     Video Games|          1|            0|          0|   N|                Y|            One Star|The remote consta...| 2015-08-31|\n",
      "|         US|   17521011|R2F0POU5K6F73F|B008XHCLFO|      24234603|Protection for yo...|     Video Games|          5|            0|          0|   N|                Y|              A Must|I have a 2012-201...| 2015-08-31|\n",
      "|         US|   19676307|R3VNR804HYSMR6|B00BRA9R6A|     682267517|   Nerf 3DS XL Armor|     Video Games|          5|            0|          0|   N|                Y|          Five Stars|Perfect, kids lov...| 2015-08-31|\n",
      "|         US|     224068| R3GZTM72WA2QH|B009EPWJLA|     435241890|One Piece: Pirate...|     Video Games|          5|            0|          0|   N|                Y|          Five Stars|            Excelent| 2015-08-31|\n",
      "|         US|   48467989| RNQOY62705W1K|B0000AV7GB|     256572651|Playstation 2 Dan...|     Video Games|          4|            0|          0|   N|                Y|          Four Stars|Slippery but expe...| 2015-08-31|\n",
      "|         US|     106569|R1VTIA3JTYBY02|B00008KTNN|     384411423|Metal Arms: Glitc...|     Video Games|          5|            0|          0|   N|                N|          Five Stars|Love the game. Se...| 2015-08-31|\n",
      "|         US|   48269642|R29DOU8791QZL8|B000A3IA0Y|     472622859|72 Pin Connector ...|     Video Games|          1|            0|          0|   N|                Y| Game will get stuck|Does not fit prop...| 2015-08-31|\n",
      "|         US|   52738710|R15DUT1VIJ9RJZ|B0053BQN34|     577628462|uDraw Gametablet ...|     Video Games|          2|            0|          0|   N|                Y|We have tried it ...|This was way too ...| 2015-08-31|\n",
      "|         US|   10556786|R3IMF2MQ3OU9ZM|B002I0HIMI|     988218515|NBA 2K12(Covers M...|     Video Games|          4|            0|          0|   N|                Y|          Four Stars|Works great good ...| 2015-08-31|\n",
      "|         US|    2963837|R23H79DHOZTYAU|B0081EH12M|     770100932|New Trigger Grips...|     Video Games|          1|            1|          1|   N|                Y|Now i have to buy...|It did not fit th...| 2015-08-31|\n",
      "|         US|   23092109| RIV24EQAIXA4O|B005FMLZQQ|      24647669|Xbox 360 Media Re...|     Video Games|          5|            0|          0|   N|                Y|          Five Stars|perfect lightweig...| 2015-08-31|\n",
      "|         US|   23091728|R3UCNGYDVN24YB|B002BSA388|      33706205|Super Mario Galaxy 2|     Video Games|          5|            0|          0|   N|                Y|          Five Stars|               great| 2015-08-31|\n",
      "|         US|   10712640| RUL4H4XTTN2DY|B00BUSLSAC|     829667834|Nintendo 3DS XL -...|     Video Games|          5|            0|          0|   N|                Y|          Five Stars|Works beautifully...| 2015-08-31|\n",
      "|         US|   17455376|R20JF7Z4DHTNX5|B00KWF38AW|     110680188|Captain Toad:  Tr...|     Video Games|          5|            0|          0|   N|                Y|          Five Stars|Kids loved the ga...| 2015-08-31|\n",
      "|         US|   14754850|R2T1AJ5MFI2260|B00BRQJYA8|     616463426|Lego Batman 2: DC...|     Video Games|          4|            0|          0|   N|                Y|          Four Stars|           Goodngame| 2015-08-31|\n",
      "+-----------+-----------+--------------+----------+--------------+--------------------+----------------+-----------+-------------+-----------+----+-----------------+--------------------+--------------------+-----------+\n",
      "only showing top 20 rows\n",
      "\n"
     ]
    }
   ],
   "source": [
    "# Read in data from S3 Buckets\n",
    "from pyspark import SparkFiles\n",
    "from pyspark.sql.functions import col,to_date,count\n",
    "mode = \"append\"\n",
    "jdbc_url=\"jdbc:postgresql://enter AWS RDS endpoint here:5432/mydb\"\n",
    "config = {\"user\":\"postgres\", \n",
    "          \"password\": \"enter password here\", \n",
    "          \"driver\":\"org.postgresql.Driver\"}\n",
    "\n",
    "url = \"https://s3.amazonaws.com/amazon-reviews-pds/tsv/amazon_reviews_us_Video_Games_v1_00.tsv.gz\"\n",
    "spark.sparkContext.addFile(url)\n",
    "df = spark.read.csv(SparkFiles.get(\"amazon_reviews_us_Video_Games_v1_00.tsv.gz\"), sep=\"\\t\", header=True)\n",
    "\n",
    "# Show DataFrame\n",
    "df.show()"
   ]
  },
  {
   "cell_type": "code",
   "execution_count": 6,
   "id": "330d5795",
   "metadata": {
    "colab": {
     "base_uri": "https://localhost:8080/"
    },
    "id": "330d5795",
    "outputId": "421727a0-72d6-4195-e733-0f6513b2423c"
   },
   "outputs": [
    {
     "data": {
      "text/plain": [
       "1785997"
      ]
     },
     "execution_count": 6,
     "metadata": {},
     "output_type": "execute_result"
    }
   ],
   "source": [
    "# Count rows\n",
    "df.count()"
   ]
  },
  {
   "cell_type": "code",
   "execution_count": 7,
   "id": "c9c5e409",
   "metadata": {
    "colab": {
     "base_uri": "https://localhost:8080/"
    },
    "id": "c9c5e409",
    "outputId": "d9c301e2-1f1b-4464-e32b-e0874e5b1ee2"
   },
   "outputs": [
    {
     "name": "stdout",
     "output_type": "stream",
     "text": [
      "root\n",
      " |-- marketplace: string (nullable = true)\n",
      " |-- customer_id: string (nullable = true)\n",
      " |-- review_id: string (nullable = true)\n",
      " |-- product_id: string (nullable = true)\n",
      " |-- product_parent: string (nullable = true)\n",
      " |-- product_title: string (nullable = true)\n",
      " |-- product_category: string (nullable = true)\n",
      " |-- star_rating: string (nullable = true)\n",
      " |-- helpful_votes: string (nullable = true)\n",
      " |-- total_votes: string (nullable = true)\n",
      " |-- vine: string (nullable = true)\n",
      " |-- verified_purchase: string (nullable = true)\n",
      " |-- review_headline: string (nullable = true)\n",
      " |-- review_body: string (nullable = true)\n",
      " |-- review_date: string (nullable = true)\n",
      "\n"
     ]
    }
   ],
   "source": [
    "# Print our schema\n",
    "df.printSchema()"
   ]
  },
  {
   "cell_type": "code",
   "execution_count": 8,
   "id": "579bde90",
   "metadata": {
    "colab": {
     "base_uri": "https://localhost:8080/"
    },
    "id": "579bde90",
    "outputId": "9bd791c9-33aa-4709-d094-9b059b3d1b89"
   },
   "outputs": [
    {
     "name": "stdout",
     "output_type": "stream",
     "text": [
      "+--------------+-----------+----------+--------------+-----------+\n",
      "|     review_id|customer_id|product_id|product_parent|review_date|\n",
      "+--------------+-----------+----------+--------------+-----------+\n",
      "| RTIS3L2M1F5SM|   12039526|B001CXYMFS|     737716809| 2015-08-31|\n",
      "| R1ZV7R40OLHKD|    9636577|B00M920ND6|     569686175| 2015-08-31|\n",
      "|R3BH071QLH8QMC|    2331478|B0029CSOD2|      98937668| 2015-08-31|\n",
      "|R127K9NTSXA2YH|   52495923|B00GOOSV98|      23143350| 2015-08-31|\n",
      "|R32ZWUXDJPW27Q|   14533949|B00Y074JOM|     821342511| 2015-08-31|\n",
      "|R3AQQ4YUKJWBA6|    2377552|B002UBI6W6|     328764615| 2015-08-31|\n",
      "|R2F0POU5K6F73F|   17521011|B008XHCLFO|      24234603| 2015-08-31|\n",
      "|R3VNR804HYSMR6|   19676307|B00BRA9R6A|     682267517| 2015-08-31|\n",
      "| R3GZTM72WA2QH|     224068|B009EPWJLA|     435241890| 2015-08-31|\n",
      "| RNQOY62705W1K|   48467989|B0000AV7GB|     256572651| 2015-08-31|\n",
      "|R1VTIA3JTYBY02|     106569|B00008KTNN|     384411423| 2015-08-31|\n",
      "|R29DOU8791QZL8|   48269642|B000A3IA0Y|     472622859| 2015-08-31|\n",
      "|R15DUT1VIJ9RJZ|   52738710|B0053BQN34|     577628462| 2015-08-31|\n",
      "|R3IMF2MQ3OU9ZM|   10556786|B002I0HIMI|     988218515| 2015-08-31|\n",
      "|R23H79DHOZTYAU|    2963837|B0081EH12M|     770100932| 2015-08-31|\n",
      "| RIV24EQAIXA4O|   23092109|B005FMLZQQ|      24647669| 2015-08-31|\n",
      "|R3UCNGYDVN24YB|   23091728|B002BSA388|      33706205| 2015-08-31|\n",
      "| RUL4H4XTTN2DY|   10712640|B00BUSLSAC|     829667834| 2015-08-31|\n",
      "|R20JF7Z4DHTNX5|   17455376|B00KWF38AW|     110680188| 2015-08-31|\n",
      "|R2T1AJ5MFI2260|   14754850|B00BRQJYA8|     616463426| 2015-08-31|\n",
      "+--------------+-----------+----------+--------------+-----------+\n",
      "only showing top 20 rows\n",
      "\n",
      "+----------+--------------------+\n",
      "|product_id|       product_title|\n",
      "+----------+--------------------+\n",
      "|B001CXYMFS|Thrustmaster T-Fl...|\n",
      "|B00M920ND6|Tonsee 6 buttons ...|\n",
      "|B0029CSOD2|Hidden Mysteries:...|\n",
      "|B00GOOSV98|GelTabz Performan...|\n",
      "|B00Y074JOM|Zero Suit Samus a...|\n",
      "|B002UBI6W6|Psyclone Recharge...|\n",
      "|B008XHCLFO|Protection for yo...|\n",
      "|B00BRA9R6A|   Nerf 3DS XL Armor|\n",
      "|B009EPWJLA|One Piece: Pirate...|\n",
      "|B0000AV7GB|Playstation 2 Dan...|\n",
      "|B00008KTNN|Metal Arms: Glitc...|\n",
      "|B000A3IA0Y|72 Pin Connector ...|\n",
      "|B0053BQN34|uDraw Gametablet ...|\n",
      "|B002I0HIMI|NBA 2K12(Covers M...|\n",
      "|B0081EH12M|New Trigger Grips...|\n",
      "|B005FMLZQQ|Xbox 360 Media Re...|\n",
      "|B002BSA388|Super Mario Galaxy 2|\n",
      "|B00BUSLSAC|Nintendo 3DS XL -...|\n",
      "|B00KWF38AW|Captain Toad:  Tr...|\n",
      "|B00BRQJYA8|Lego Batman 2: DC...|\n",
      "+----------+--------------------+\n",
      "only showing top 20 rows\n",
      "\n"
     ]
    }
   ],
   "source": [
    "review_id_table = df.select(col('review_id'),col('customer_id').cast(\"int\"),col('product_id'),col('product_parent').cast('int'),to_date(col(\"review_date\"),\"yyyy-MM-dd\").alias('review_date'))\n",
    "review_id_table.show()\n",
    "products_table = df.select(col('product_id'),col('product_title'))\n",
    "products_table.show()"
   ]
  },
  {
   "cell_type": "code",
   "execution_count": 9,
   "id": "da79936d",
   "metadata": {
    "colab": {
     "base_uri": "https://localhost:8080/"
    },
    "id": "da79936d",
    "outputId": "979c1de5-e397-4d43-ecef-a943e3002953"
   },
   "outputs": [
    {
     "name": "stdout",
     "output_type": "stream",
     "text": [
      "+----------+--------------------+\n",
      "|product_id|       product_title|\n",
      "+----------+--------------------+\n",
      "|B00CJ7IUI6|The Elder Scrolls...|\n",
      "|B00DHF39KS|Wolfenstein: The ...|\n",
      "|B00MUTAVH6|Under Night In-Bi...|\n",
      "|B001AZSEUW|              Peggle|\n",
      "|B00KVOVBGM|PlayStation 4 Con...|\n",
      "|B00O9VGH4Y|USPRO&reg; Headph...|\n",
      "|B004OQNZY4|Phineas and Ferb:...|\n",
      "|B00ZLN980O|Donop seablue 2.4...|\n",
      "|B002L8W5V6|Dotop Nintendo Ga...|\n",
      "|B007AJZ5PY|Nyko Game Case fo...|\n",
      "|B000AOEU2K|Fire Emblem: Path...|\n",
      "|B000H8BW7U|Tanarus (PC) (Com...|\n",
      "|B013RADQOQ|Susenstone® 2400D...|\n",
      "|B00KQXKUJ2|FIFA 15 (Ultimate...|\n",
      "|B006W41X2C|Turtle Beach - Ea...|\n",
      "|B000KCX9M4|Grand Theft Auto:...|\n",
      "|B00YT90JWC|Red Wii Mini Cons...|\n",
      "|B0096KG6A8|Wii U Super Mario...|\n",
      "|B00L6AVLB0|World of Tanks-X3...|\n",
      "|B000IMYKQ0|Wii Nunchuk Contr...|\n",
      "+----------+--------------------+\n",
      "only showing top 20 rows\n",
      "\n"
     ]
    }
   ],
   "source": [
    "products_table = df.select(col('product_id'),col('product_title')).distinct()\n",
    "products_table.show()"
   ]
  },
  {
   "cell_type": "code",
   "execution_count": 10,
   "id": "cb8b5ba7",
   "metadata": {
    "colab": {
     "base_uri": "https://localhost:8080/"
    },
    "id": "cb8b5ba7",
    "outputId": "02897b72-785a-4ddd-f4e8-444b2bea13c1"
   },
   "outputs": [
    {
     "name": "stdout",
     "output_type": "stream",
     "text": [
      "+-----------+--------------+\n",
      "|customer_id|customer_count|\n",
      "+-----------+--------------+\n",
      "|   48670265|             1|\n",
      "|   49103216|             2|\n",
      "|    1131200|             1|\n",
      "|   43076447|             2|\n",
      "|   46261368|             1|\n",
      "|    4883305|             5|\n",
      "|   41192649|             1|\n",
      "|   40985731|             7|\n",
      "|   10437900|             2|\n",
      "|   22245671|             1|\n",
      "|    2574873|             1|\n",
      "|    4696154|             1|\n",
      "|    5621202|             1|\n",
      "|    5871933|             2|\n",
      "|   44089812|             1|\n",
      "|    2845910|             1|\n",
      "|    5274369|             1|\n",
      "|   39069693|             2|\n",
      "|     137793|             1|\n",
      "|   31914942|             3|\n",
      "+-----------+--------------+\n",
      "only showing top 20 rows\n",
      "\n"
     ]
    }
   ],
   "source": [
    "customers_table = df.select(col('customer_id').cast('int')).groupBy('customer_id').agg(count('customer_id').alias(\"customer_count\") )\n",
    "customers_table.show()"
   ]
  },
  {
   "cell_type": "code",
   "execution_count": 11,
   "id": "1cc215ca",
   "metadata": {
    "colab": {
     "base_uri": "https://localhost:8080/"
    },
    "id": "1cc215ca",
    "outputId": "8d007b33-155a-42a3-b557-a2b7a7b1b035"
   },
   "outputs": [
    {
     "name": "stdout",
     "output_type": "stream",
     "text": [
      "+--------------+-----------+-------------+-----------+----+\n",
      "|     review_id|star_rating|helpful_votes|total_votes|vine|\n",
      "+--------------+-----------+-------------+-----------+----+\n",
      "| RTIS3L2M1F5SM|          5|            0|          0|   N|\n",
      "| R1ZV7R40OLHKD|          5|            0|          0|   N|\n",
      "|R3BH071QLH8QMC|          1|            0|          1|   N|\n",
      "|R127K9NTSXA2YH|          3|            0|          0|   N|\n",
      "|R32ZWUXDJPW27Q|          4|            0|          0|   N|\n",
      "|R3AQQ4YUKJWBA6|          1|            0|          0|   N|\n",
      "|R2F0POU5K6F73F|          5|            0|          0|   N|\n",
      "|R3VNR804HYSMR6|          5|            0|          0|   N|\n",
      "| R3GZTM72WA2QH|          5|            0|          0|   N|\n",
      "| RNQOY62705W1K|          4|            0|          0|   N|\n",
      "|R1VTIA3JTYBY02|          5|            0|          0|   N|\n",
      "|R29DOU8791QZL8|          1|            0|          0|   N|\n",
      "|R15DUT1VIJ9RJZ|          2|            0|          0|   N|\n",
      "|R3IMF2MQ3OU9ZM|          4|            0|          0|   N|\n",
      "|R23H79DHOZTYAU|          1|            1|          1|   N|\n",
      "| RIV24EQAIXA4O|          5|            0|          0|   N|\n",
      "|R3UCNGYDVN24YB|          5|            0|          0|   N|\n",
      "| RUL4H4XTTN2DY|          5|            0|          0|   N|\n",
      "|R20JF7Z4DHTNX5|          5|            0|          0|   N|\n",
      "|R2T1AJ5MFI2260|          4|            0|          0|   N|\n",
      "+--------------+-----------+-------------+-----------+----+\n",
      "only showing top 20 rows\n",
      "\n"
     ]
    }
   ],
   "source": [
    "vine_table =df.select(col('review_id'),col('star_rating').cast(\"int\"),col('helpful_votes').cast(\"int\"),col('total_votes').cast('int'),col(\"vine\"))\n",
    "vine_table.show()"
   ]
  },
  {
   "cell_type": "code",
   "execution_count": 12,
   "id": "e7a72bac",
   "metadata": {
    "id": "e7a72bac"
   },
   "outputs": [],
   "source": [
    "review_id_table.write.jdbc(url=jdbc_url, table='review_id_table', mode=mode, properties=config)"
   ]
  },
  {
   "cell_type": "code",
   "execution_count": 13,
   "id": "00040dc6",
   "metadata": {
    "id": "00040dc6"
   },
   "outputs": [],
   "source": [
    "products_table.write.jdbc(url=jdbc_url, table='products', mode=mode, properties=config)"
   ]
  },
  {
   "cell_type": "code",
   "execution_count": 14,
   "id": "0ca6d41d",
   "metadata": {
    "id": "0ca6d41d"
   },
   "outputs": [],
   "source": [
    "customers_table.write.jdbc(url=jdbc_url, table='customers', mode=mode, properties=config)"
   ]
  },
  {
   "cell_type": "code",
   "execution_count": 15,
   "id": "5ff98093",
   "metadata": {
    "id": "5ff98093"
   },
   "outputs": [],
   "source": [
    "vine_table.write.jdbc(url=jdbc_url, table='vine_table', mode=mode, properties=config)"
   ]
  }
 ],
 "metadata": {
  "accelerator": "TPU",
  "colab": {
   "name": "notebook2.ipynb",
   "provenance": []
  },
  "kernelspec": {
   "display_name": "Python [conda env:PythonData]",
   "language": "python",
   "name": "conda-env-PythonData-py"
  },
  "language_info": {
   "codemirror_mode": {
    "name": "ipython",
    "version": 3
   },
   "file_extension": ".py",
   "mimetype": "text/x-python",
   "name": "python",
   "nbconvert_exporter": "python",
   "pygments_lexer": "ipython3",
   "version": "3.6.13"
  }
 },
 "nbformat": 4,
 "nbformat_minor": 5
}
